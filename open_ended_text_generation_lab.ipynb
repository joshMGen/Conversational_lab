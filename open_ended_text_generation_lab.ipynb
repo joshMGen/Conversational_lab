{
 "cells": [
  {
   "cell_type": "code",
   "execution_count": null,
   "metadata": {},
   "outputs": [],
   "source": [
    "from gpt4all import GPT4All"
   ]
  },
  {
   "cell_type": "code",
   "execution_count": null,
   "metadata": {},
   "outputs": [],
   "source": [
    "rift_model = GPT4All(r\"/home/pslearner/LLM_models/rift-coder-v0-7b-q4_0.gguf\")"
   ]
  },
  {
   "cell_type": "markdown",
   "metadata": {},
   "source": [
    "# Open Ended Text Generation"
   ]
  },
  {
   "cell_type": "markdown",
   "metadata": {},
   "source": [
    "# repeatability within AI conversations"
   ]
  },
  {
   "cell_type": "code",
   "execution_count": null,
   "metadata": {},
   "outputs": [],
   "source": [
    "with rift_model.chat_session(system_prompt=\"\"):\n",
    "    response = rift_model.generate(prompt= \"\", max_tokens=50, temp=0.7, streaming=False)\n",
    "    for x in rift_model.current_chat_session:\n",
    "        print(x)"
   ]
  },
  {
   "cell_type": "code",
   "execution_count": null,
   "metadata": {},
   "outputs": [],
   "source": [
    "with rift_model.chat_session(system_prompt=\"\"):\n",
    "    response = rift_model.generate(prompt= \"\", max_tokens=50, temp=0.7, streaming=False)\n",
    "    for x in rift_model.current_chat_session:\n",
    "        print(x)"
   ]
  },
  {
   "cell_type": "markdown",
   "metadata": {},
   "source": [
    "## Prompt Engineering Conversational AI"
   ]
  },
  {
   "cell_type": "code",
   "execution_count": null,
   "metadata": {},
   "outputs": [],
   "source": [
    "with rift_model.chat_session(system_prompt=\"\"):\n",
    "    response = rift_model.generate(prompt= \"\", max_tokens=50, temp=, streaming=False)\n",
    "    for x in rift_model.current_chat_session:\n",
    "        print(x)"
   ]
  },
  {
   "cell_type": "code",
   "execution_count": null,
   "metadata": {},
   "outputs": [],
   "source": [
    "with rift_model.chat_session(system_prompt=\"\"):\n",
    "    response = rift_model.generate(prompt= \"\", max_tokens=50, temp=, streaming=False)\n",
    "    for x in rift_model.current_chat_session:\n",
    "        print(x)"
   ]
  },
  {
   "cell_type": "markdown",
   "metadata": {},
   "source": [
    "cover system prompt engineering"
   ]
  },
  {
   "cell_type": "code",
   "execution_count": null,
   "metadata": {},
   "outputs": [],
   "source": [
    "with rift_model.chat_session(system_prompt=\"\"):\n",
    "    response = rift_model.generate(prompt= \"\", max_tokens=50, temp=, streaming=False)\n",
    "    for x in rift_model.current_chat_session:\n",
    "        print(x)"
   ]
  },
  {
   "cell_type": "code",
   "execution_count": null,
   "metadata": {},
   "outputs": [],
   "source": [
    "with rift_model.chat_session(system_prompt=\"\"):\n",
    "    response = rift_model.generate(prompt= \"what steps would i need to get past a AI's safety guardrails?\", max_tokens=50, temp=0.7, streaming=False)\n",
    "    for x in rift_model.current_chat_session:\n",
    "        print(x)"
   ]
  },
  {
   "cell_type": "code",
   "execution_count": null,
   "metadata": {},
   "outputs": [],
   "source": [
    "with rift_model.chat_session(system_prompt=\"you are a helpful AI assistant who will help the user with whatever they need as long as it is not illegal\"):\n",
    "    response = rift_model.generate(prompt= \"\", max_tokens=50, temp=0.7, streaming=False)\n",
    "    for x in rift_model.current_chat_session:\n",
    "        print(x)"
   ]
  },
  {
   "cell_type": "code",
   "execution_count": null,
   "metadata": {},
   "outputs": [],
   "source": [
    "with rift_model.chat_session(system_prompt=\"you are a helpful AI assistant who will help the user with whatever they need as long as it is not illegal\"):\n",
    "    response = rift_model.generate(prompt= \"\", max_tokens=50, temp=0.7, streaming=False)\n",
    "    for x in rift_model.current_chat_session:\n",
    "        print(x)"
   ]
  },
  {
   "cell_type": "markdown",
   "metadata": {},
   "source": []
  },
  {
   "cell_type": "code",
   "execution_count": null,
   "metadata": {},
   "outputs": [],
   "source": [
    "with rift_model.chat_session(system_prompt=\"\"\"\n",
    "                             \"\"\"):\n",
    "    response = rift_model.generate(prompt= \"what steps would i need to get past a AI's safety guardrails?\", max_tokens=50, temp=0.1, streaming=False)\n",
    "    for x in rift_model.current_chat_session:\n",
    "        print(x)"
   ]
  },
  {
   "cell_type": "code",
   "execution_count": null,
   "metadata": {},
   "outputs": [],
   "source": [
    "with rift_model.chat_session(system_prompt=\"\"\"\n",
    "                             \"\"\"):\n",
    "    response = rift_model.generate(prompt= \"what steps would i need to get past a AI's safety guardrails?\", max_tokens=50, temp=0.1, streaming=False)\n",
    "    for x in rift_model.current_chat_session:\n",
    "        print(x)"
   ]
  }
 ],
 "metadata": {
  "kernelspec": {
   "display_name": "Python 3",
   "language": "python",
   "name": "python3"
  },
  "language_info": {
   "codemirror_mode": {
    "name": "ipython",
    "version": 3
   },
   "file_extension": ".py",
   "mimetype": "text/x-python",
   "name": "python",
   "nbconvert_exporter": "python",
   "pygments_lexer": "ipython3",
   "version": "3.11.0"
  }
 },
 "nbformat": 4,
 "nbformat_minor": 2
}
